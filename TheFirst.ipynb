{
  "nbformat": 4,
  "nbformat_minor": 0,
  "metadata": {
    "colab": {
      "name": "TheFirst.ipynb",
      "provenance": [],
      "authorship_tag": "ABX9TyMVCLY4I+SzCqYbLheSpsZQ",
      "include_colab_link": true
    },
    "kernelspec": {
      "name": "python3",
      "display_name": "Python 3"
    }
  },
  "cells": [
    {
      "cell_type": "markdown",
      "metadata": {
        "id": "view-in-github",
        "colab_type": "text"
      },
      "source": [
        "<a href=\"https://colab.research.google.com/github/spiritbuilder/Imago/blob/master/TheFirst.ipynb\" target=\"_parent\"><img src=\"https://colab.research.google.com/assets/colab-badge.svg\" alt=\"Open In Colab\"/></a>"
      ]
    },
    {
      "cell_type": "code",
      "metadata": {
        "id": "p53Xjvx_Mgtf",
        "colab_type": "code",
        "colab": {
          "base_uri": "https://localhost:8080/",
          "height": 34
        },
        "outputId": "e4f0072b-45c5-4406-8c21-e8d5a17ca9d0"
      },
      "source": [
        "import time\n",
        "print(time.ctime())"
      ],
      "execution_count": 1,
      "outputs": [
        {
          "output_type": "stream",
          "text": [
            "Thu Jul  2 01:46:47 2020\n"
          ],
          "name": "stdout"
        }
      ]
    },
    {
      "cell_type": "code",
      "metadata": {
        "id": "JLojNVatNn9D",
        "colab_type": "code",
        "colab": {
          "base_uri": "https://localhost:8080/",
          "height": 34
        },
        "outputId": "c5d11c28-204b-4123-ac3c-3d9df79fe539"
      },
      "source": [
        "time.sleep(5)\n",
        "print(time.ctime())"
      ],
      "execution_count": 3,
      "outputs": [
        {
          "output_type": "stream",
          "text": [
            "Thu Jul  2 01:52:22 2020\n"
          ],
          "name": "stdout"
        }
      ]
    },
    {
      "cell_type": "markdown",
      "metadata": {
        "id": "rwJAI_kBQFJV",
        "colab_type": "text"
      },
      "source": [
        "This is **bold**\n",
        "this is a *italic*\n",
        "THis is a ~strikeThrough~\n",
        "\n"
      ]
    },
    {
      "cell_type": "markdown",
      "metadata": {
        "id": "HfpxvzhcQnTx",
        "colab_type": "text"
      },
      "source": [
        "$\\sqrt(3x+1)-(x-1)^2$\n"
      ]
    }
  ]
}